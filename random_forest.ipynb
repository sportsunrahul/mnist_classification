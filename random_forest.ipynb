{
 "cells": [
  {
   "cell_type": "code",
   "execution_count": 1,
   "metadata": {},
   "outputs": [
    {
     "name": "stderr",
     "output_type": "stream",
     "text": [
      "C:\\Users\\sport\\Anaconda3\\lib\\site-packages\\h5py\\__init__.py:36: FutureWarning: Conversion of the second argument of issubdtype from `float` to `np.floating` is deprecated. In future, it will be treated as `np.float64 == np.dtype(float).type`.\n",
      "  from ._conv import register_converters as _register_converters\n",
      "Using TensorFlow backend.\n"
     ]
    }
   ],
   "source": [
    "import numpy as np\n",
    "import gzip\n",
    "import matplotlib.pyplot as plt\n",
    "\n",
    "from sklearn.model_selection import train_test_split\n",
    "from sklearn.ensemble import RandomForestClassifier\n",
    "from keras.utils.np_utils import to_categorical # convert to one-hot-encoding"
   ]
  },
  {
   "cell_type": "code",
   "execution_count": 2,
   "metadata": {},
   "outputs": [],
   "source": [
    "def read_data(train_num_images,test_num_images,image_size,train_image_file,train_label_file,test_image_file,test_label_file):\n",
    "    \n",
    "    train_image_file = gzip.open(train_image_file,'r')\n",
    "    train_label_file = gzip.open(train_label_file,'r')\n",
    "    test_image_file = gzip.open(test_image_file,'r')\n",
    "    test_label_file = gzip.open(test_label_file,'r')\n",
    "\n",
    "    # Read Training Images\n",
    "    train_image_file = gzip.open('train-images-idx3-ubyte.gz','r')\n",
    "    train_image_file.read(16)\n",
    "    buf = train_image_file.read(image_size * image_size * train_num_images)\n",
    "    train_images = np.frombuffer(buf, dtype=np.uint8).astype(np.float32)\n",
    "    train_images = train_images.reshape(train_num_images, image_size, image_size, 1)\n",
    "\n",
    "    # Read Training Labels\n",
    "    train_label_file.read(8)\n",
    "    buf = train_label_file.read(train_num_images)\n",
    "    train_labels = np.frombuffer(buf, dtype=np.uint8).astype(np.float32)\n",
    "\n",
    "    # Read Testing Images\n",
    "    test_image_file.read(16)\n",
    "    buf = test_image_file.read(image_size * image_size * test_num_images)\n",
    "    test_images = np.frombuffer(buf, dtype=np.uint8).astype(np.float32)\n",
    "    test_images = test_images.reshape(test_num_images, image_size, image_size, 1)\n",
    "\n",
    "    # Read Testing Labels\n",
    "    test_label_file.read(8)\n",
    "    buf = test_label_file.read(test_num_images)\n",
    "    test_labels = np.frombuffer(buf, dtype=np.uint8).astype(np.float32)\n",
    "    \n",
    "    return train_images,train_labels,test_images,test_labels"
   ]
  },
  {
   "cell_type": "code",
   "execution_count": 3,
   "metadata": {},
   "outputs": [],
   "source": [
    "def hyperparameter_tuning(x_train,y_train,x_test,y_test):\n",
    "    n_estimators = [10,50,100,200,300,400,500]\n",
    "#     n_estimators = [1,5,10,20,30,40,50,100]\n",
    "\n",
    "    opt_estimator = 1\n",
    "    max_score = 0\n",
    "    for i in n_estimators:\n",
    "        rf = RandomForestClassifier(n_estimators = i, n_jobs=-1)\n",
    "        rf.fit(x_train, y_train)\n",
    "        train_score = rf.score(x_train, y_train)\n",
    "        val_score = rf.score(x_test, y_test)\n",
    "        print(\"Maximum Iterations:{}, Train Accuracy:{:2.4}, Validation Accuracy:{:2.4}\".format(i,100*train_score,100*val_score))\n",
    "        if(val_score> max_score):\n",
    "            max_score = val_score\n",
    "            opt_estimator = i\n",
    "    print(\"Optimum:\", opt_estimator, 100*max_score)\n",
    "    \n",
    "    return opt_estimator"
   ]
  },
  {
   "cell_type": "code",
   "execution_count": 4,
   "metadata": {},
   "outputs": [],
   "source": [
    "def main():\n",
    "    train_num_images = 60000\n",
    "    test_num_images = 10000\n",
    "    image_size = 28\n",
    "    \n",
    "    train_image_file = 'train-images-idx3-ubyte.gz'\n",
    "    train_label_file = 'train-labels-idx1-ubyte.gz'\n",
    "    test_image_file = 't10k-images-idx3-ubyte.gz'\n",
    "    test_label_file = 't10k-labels-idx1-ubyte.gz'\n",
    "    train_images,train_labels,test_images,test_labels = read_data(train_num_images,test_num_images,image_size,\\\n",
    "                                                                  train_image_file,train_label_file,test_image_file,\\\n",
    "                                                                  test_label_file)\n",
    "    # Reshaping Images for training and testing\n",
    "    train_images = train_images.reshape(train_num_images,784)\n",
    "    test_images = test_images.reshape(test_num_images,784)\n",
    "    \n",
    "    # Splitting training data into trainig and validation data\n",
    "    x_train, x_test, y_train, y_test = train_test_split(train_images, train_labels, test_size=0.25, random_state=0)\n",
    "\n",
    "    # Finding optimum number of iterations\n",
    "    opt_estimator = hyperparameter_tuning(x_train,y_train,x_test,y_test)\n",
    "    \n",
    "    # Training on the whole training dataset\n",
    "    rf = RandomForestClassifier(n_estimators = opt_estimator,n_jobs = -1)\n",
    "    rf.fit(train_images, train_labels)\n",
    "    train_score = rf.score(train_images, train_labels)\n",
    "    print(\"Train Accuracy:{:2.4}\".format(100*train_score))\n",
    "\n",
    "    predictions = rf.predict(test_images)\n",
    "    test_score = rf.score(test_images, test_labels)\n",
    "    print(\"Test Accuracy:{:2.4}\".format(100*test_score))\n",
    "    \n",
    "    \n",
    "    # Dumping testing results into csv file\n",
    "    results = to_categorical(predictions,num_classes = 10)\n",
    "    np.savetxt(\"rf.csv\", results, fmt = '%4d', delimiter=\",\")"
   ]
  },
  {
   "cell_type": "code",
   "execution_count": 5,
   "metadata": {},
   "outputs": [
    {
     "name": "stdout",
     "output_type": "stream",
     "text": [
      "Maximum Iterations:10, Train Accuracy:99.9, Validation Accuracy:94.19\n",
      "Maximum Iterations:50, Train Accuracy:100.0, Validation Accuracy:96.42\n",
      "Maximum Iterations:100, Train Accuracy:100.0, Validation Accuracy:96.8\n",
      "Maximum Iterations:200, Train Accuracy:100.0, Validation Accuracy:96.92\n",
      "Maximum Iterations:300, Train Accuracy:100.0, Validation Accuracy:96.98\n",
      "Maximum Iterations:400, Train Accuracy:100.0, Validation Accuracy:97.0\n",
      "Maximum Iterations:500, Train Accuracy:100.0, Validation Accuracy:96.97\n",
      "Optimum: 400 97.0\n",
      "Train Accuracy:100.0\n",
      "Test Accuracy:97.14\n"
     ]
    }
   ],
   "source": [
    "if __name__ == \"__main__\":\n",
    "    main()"
   ]
  }
 ],
 "metadata": {
  "kernelspec": {
   "display_name": "Python 3",
   "language": "python",
   "name": "python3"
  },
  "language_info": {
   "codemirror_mode": {
    "name": "ipython",
    "version": 3
   },
   "file_extension": ".py",
   "mimetype": "text/x-python",
   "name": "python",
   "nbconvert_exporter": "python",
   "pygments_lexer": "ipython3",
   "version": "3.6.5"
  }
 },
 "nbformat": 4,
 "nbformat_minor": 2
}
